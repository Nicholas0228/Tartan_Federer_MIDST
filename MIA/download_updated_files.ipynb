{
 "cells": [
  {
   "cell_type": "markdown",
   "metadata": {},
   "source": [
    "multi-table white-box (ClavaDDPM)"
   ]
  },
  {
   "cell_type": "code",
   "execution_count": 5,
   "metadata": {},
   "outputs": [],
   "source": [
    "!gdown 1OZQbNt7d_ZsSKu1uTW5I0Gh1xhW2uwM7\n",
    "!unzip -qq -o clavaddpm_white_box.zip"
   ]
  },
  {
   "cell_type": "markdown",
   "metadata": {},
   "source": [
    "single-table white-box (Tabddpm)"
   ]
  },
  {
   "cell_type": "code",
   "execution_count": null,
   "metadata": {},
   "outputs": [],
   "source": [
    "!gdown 1DGqz9U8IKLLZrhB3cKm0SEaoU_MyakKh\n",
    "!unzip -qq -o tabddpm_white_box.zip"
   ]
  },
  {
   "cell_type": "markdown",
   "metadata": {},
   "source": [
    "multi-table black-box (ClavaDDPM)"
   ]
  },
  {
   "cell_type": "code",
   "execution_count": null,
   "metadata": {},
   "outputs": [],
   "source": [
    "!gdown 1fWOBhEyZLhW-lmfH1ttZ85iUZdanYQzY\n",
    "!unzip -qq -o clavaddpm_black_box.zip"
   ]
  },
  {
   "cell_type": "markdown",
   "metadata": {},
   "source": [
    "single-table black-box (Tabddpm)"
   ]
  },
  {
   "cell_type": "code",
   "execution_count": null,
   "metadata": {},
   "outputs": [],
   "source": [
    "!gdown 15-CY91tLyQ7mz1ghA9-1M_0khvu3DIX9\n",
    "!unzip -qq -o tabddpm_black_box.zip"
   ]
  }
 ],
 "metadata": {
  "kernelspec": {
   "display_name": "midst-models-9WC0e6Lb-py3.9",
   "language": "python",
   "name": "python3"
  },
  "language_info": {
   "codemirror_mode": {
    "name": "ipython",
    "version": 3
   },
   "file_extension": ".py",
   "mimetype": "text/x-python",
   "name": "python",
   "nbconvert_exporter": "python",
   "pygments_lexer": "ipython3",
   "version": "3.9.21"
  }
 },
 "nbformat": 4,
 "nbformat_minor": 2
}
