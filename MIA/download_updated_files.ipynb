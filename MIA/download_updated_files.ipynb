{
 "cells": [
  {
   "cell_type": "markdown",
   "metadata": {},
   "source": [
    "multi-table white-box (ClavaDDPM)"
   ]
  },
  {
   "cell_type": "code",
   "execution_count": 5,
   "metadata": {},
   "outputs": [],
   "source": [
    "!gdown 1OZQbNt7d_ZsSKu1uTW5I0Gh1xhW2uwM7\n",
    "!unzip -qq -o clavaddpm_white_box.zip"
   ]
  },
  {
   "cell_type": "code",
   "execution_count": null,
   "metadata": {},
   "outputs": [],
   "source": [
    "!rm -r clavaddpm_white_box/*/.DS_Store"
   ]
  },
  {
   "cell_type": "markdown",
   "metadata": {},
   "source": [
    "single-table white-box (Tabddpm)"
   ]
  },
  {
   "cell_type": "code",
   "execution_count": 1,
   "metadata": {},
   "outputs": [
    {
     "name": "stdout",
     "output_type": "stream",
     "text": [
      "Downloading...\n",
      "From (original): https://drive.google.com/uc?id=1DGqz9U8IKLLZrhB3cKm0SEaoU_MyakKh\n",
      "From (redirected): https://drive.google.com/uc?id=1DGqz9U8IKLLZrhB3cKm0SEaoU_MyakKh&confirm=t&uuid=bc783173-1367-4204-a14e-7d37f87e442c\n",
      "To: /work4/xiaoyuwu/Tartan_Federer_MIDST/MIA/tabddpm_white_box.zip\n",
      "100%|██████████████████████████████████████| 1.22G/1.22G [00:12<00:00, 97.2MB/s]\n"
     ]
    }
   ],
   "source": [
    "!gdown 1DGqz9U8IKLLZrhB3cKm0SEaoU_MyakKh\n",
    "!unzip -qq -o tabddpm_white_box.zip"
   ]
  },
  {
   "cell_type": "code",
   "execution_count": 7,
   "metadata": {},
   "outputs": [],
   "source": [
    "!rm -r tabddpm_white_box/*/.DS_Store"
   ]
  },
  {
   "cell_type": "markdown",
   "metadata": {},
   "source": [
    "multi-table black-box (ClavaDDPM)"
   ]
  },
  {
   "cell_type": "code",
   "execution_count": null,
   "metadata": {},
   "outputs": [],
   "source": [
    "!gdown 1fWOBhEyZLhW-lmfH1ttZ85iUZdanYQzY\n",
    "!unzip -qq -o clavaddpm_black_box.zip"
   ]
  },
  {
   "cell_type": "code",
   "execution_count": null,
   "metadata": {},
   "outputs": [],
   "source": [
    "!rm -r clavaddpm_black_box/*/.DS_Store"
   ]
  },
  {
   "cell_type": "markdown",
   "metadata": {},
   "source": [
    "single-table black-box (Tabddpm)"
   ]
  },
  {
   "cell_type": "code",
   "execution_count": 2,
   "metadata": {},
   "outputs": [
    {
     "name": "stdout",
     "output_type": "stream",
     "text": [
      "Downloading...\n",
      "From (original): https://drive.google.com/uc?id=15-CY91tLyQ7mz1ghA9-1M_0khvu3DIX9\n",
      "From (redirected): https://drive.google.com/uc?id=15-CY91tLyQ7mz1ghA9-1M_0khvu3DIX9&confirm=t&uuid=4b25ad59-8a97-4972-98a7-057d3ac0e553\n",
      "To: /work4/xiaoyuwu/Tartan_Federer_MIDST/MIA/tabddpm_black_box.zip\n",
      "100%|████████████████████████████████████████| 567M/567M [00:08<00:00, 64.1MB/s]\n"
     ]
    }
   ],
   "source": [
    "!gdown 15-CY91tLyQ7mz1ghA9-1M_0khvu3DIX9\n",
    "!unzip -qq -o tabddpm_black_box.zip"
   ]
  },
  {
   "cell_type": "code",
   "execution_count": null,
   "metadata": {},
   "outputs": [],
   "source": [
    "!rm -r tabddpm_black_box/*/.DS_Store"
   ]
  }
 ],
 "metadata": {
  "kernelspec": {
   "display_name": "midst-models-9WC0e6Lb-py3.9",
   "language": "python",
   "name": "python3"
  },
  "language_info": {
   "codemirror_mode": {
    "name": "ipython",
    "version": 3
   },
   "file_extension": ".py",
   "mimetype": "text/x-python",
   "name": "python",
   "nbconvert_exporter": "python",
   "pygments_lexer": "ipython3",
   "version": "3.9.21"
  }
 },
 "nbformat": 4,
 "nbformat_minor": 2
}
